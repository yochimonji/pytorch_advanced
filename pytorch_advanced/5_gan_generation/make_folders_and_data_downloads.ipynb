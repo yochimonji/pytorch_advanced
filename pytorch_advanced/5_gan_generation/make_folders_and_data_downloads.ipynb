{
 "cells": [
  {
   "cell_type": "code",
   "execution_count": 3,
   "metadata": {},
   "outputs": [],
   "source": [
    "import os\n",
    "import urllib.request\n",
    "import zipfile\n",
    "import tarfile\n",
    "\n",
    "import matplotlib.pyplot as plt\n",
    "%matplotlib inline\n",
    "from PIL import Image\n",
    "import numpy as np\n",
    "import sklearn"
   ]
  },
  {
   "cell_type": "code",
   "execution_count": 2,
   "metadata": {},
   "outputs": [],
   "source": [
    "data_dir = \"./data\"\n",
    "if not os.path.exists(data_dir):\n",
    "    os.mkdir(data_dir)"
   ]
  },
  {
   "cell_type": "code",
   "execution_count": 4,
   "metadata": {},
   "outputs": [],
   "source": [
    "from sklearn.datasets import fetch_openml\n",
    "\n",
    "mnist = fetch_openml(\"mnist_784\", version=1, data_home=data_dir, as_frame=False)"
   ]
  },
  {
   "cell_type": "code",
   "execution_count": 6,
   "metadata": {},
   "outputs": [],
   "source": [
    "X = mnist.data\n",
    "y = mnist.target"
   ]
  },
  {
   "cell_type": "code",
   "execution_count": 7,
   "metadata": {},
   "outputs": [
    {
     "name": "stdout",
     "output_type": "stream",
     "text": [
      "この画像データのラベルは5です\n"
     ]
    },
    {
     "data": {
      "image/png": "[encoded data removed]",
      "text/plain": [
       "<Figure size 432x288 with 1 Axes>"
      ]
     },
     "metadata": {
      "needs_background": "light"
     },
     "output_type": "display_data"
    }
   ],
   "source": [
    "plt.imshow(X[0].reshape(28, 28), cmap=\"gray\")\n",
    "print(f\"この画像データのラベルは{y[0]}です\")"
   ]
  },
  {
   "cell_type": "code",
   "execution_count": 8,
   "metadata": {},
   "outputs": [],
   "source": [
    "data_dir_path = \"./data/img_78\"\n",
    "if not os.path.exists(data_dir_path):\n",
    "    os.mkdir(data_dir_path)"
   ]
  },
  {
   "cell_type": "code",
   "execution_count": 10,
   "metadata": {},
   "outputs": [
    {
     "name": "stderr",
     "output_type": "stream",
     "text": [
      "/home/yochimonji/git/pytorch_advanced/.venv/lib/python3.7/site-packages/ipykernel_launcher.py:16: DeprecationWarning: BICUBIC is deprecated and will be removed in Pillow 10 (2023-07-01). Use Resampling.BICUBIC instead.\n",
      "  \n"
     ]
    }
   ],
   "source": [
    "count7 = 0\n",
    "count8 = 0\n",
    "max_num = 200\n",
    "\n",
    "for i, _ in enumerate(X):\n",
    "    if (y[i] is \"7\") and (count7 < max_num):\n",
    "        file_path = \"./data/img_78/img_7_\" + str(count7) + \".jpg\"\n",
    "        count7 += 1\n",
    "    elif (y[i] is \"8\") and (count8 < max_num):\n",
    "        file_path = \"./data/img_78/img_8_\" + str(count8) + \".jpg\"\n",
    "        count8 += 1\n",
    "    else:\n",
    "        continue\n",
    "    im_f = (X[i].reshape(28, 28))\n",
    "    pil_img_f = Image.fromarray(im_f.astype(np.uint8))\n",
    "    pil_img_f = pil_img_f.resize((64, 64), Image.BICUBIC)\n",
    "    pil_img_f.save(file_path)"
   ]
  },
  {
   "cell_type": "code",
   "execution_count": null,
   "metadata": {},
   "outputs": [],
   "source": []
  }
 ],
 "metadata": {
  "interpreter": {
   "hash": "e359204f407e66785ccba92f989f37c20333b49f2304696bba93d11f6a78ee27"
  },
  "kernelspec": {
   "display_name": "Python 3.7.13 ('.venv': pipenv)",
   "language": "python",
   "name": "python3"
  },
  "language_info": {
   "codemirror_mode": {
    "name": "ipython",
    "version": 3
   },
   "file_extension": ".py",
   "mimetype": "text/x-python",
   "name": "python",
   "nbconvert_exporter": "python",
   "pygments_lexer": "ipython3",
   "version": "3.7.13"
  },
  "orig_nbformat": 4
 },
 "nbformat": 4,
 "nbformat_minor": 2
}
